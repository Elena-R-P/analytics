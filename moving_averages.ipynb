{
  "metadata": {
    "kernelspec": {
      "name": "python",
      "display_name": "Python (Pyodide)",
      "language": "python"
    },
    "language_info": {
      "codemirror_mode": {
        "name": "python",
        "version": 3
      },
      "file_extension": ".py",
      "mimetype": "text/x-python",
      "name": "python",
      "nbconvert_exporter": "python",
      "pygments_lexer": "ipython3",
      "version": "3.8"
    }
  },
  "nbformat_minor": 5,
  "nbformat": 4,
  "cells": [
    {
      "id": "19abd545-350d-42a9-a273-4c7a1e0b40a3",
      "cell_type": "code",
      "source": "#trendybox_sales.xlsx\nimport warnings\nwarnings.filterwarnings('ignore')\nimport pyodide_http\npyodide_http.patch_all()\n\nimport micropip\nawait micropip.install('pandas')\nawait micropip.install('openpyxl')\nimport pandas as pd\n\n# Read the data from Excel file into dataframe\nexcel_file = pd.ExcelFile(\"trendybox_sales.xlsx\", engine='openpyxl')\n\ndata = pd.read_excel(excel_file)\n\n# Calculate 3 and 6 months savings\ndata['MA_3'] = data['Sales'].rolling(window=3).mean()\ndata['MA_6'] = data['Sales'].rolling(window=6).mean()\n\n# View the forecasts\nprint(data.head(n=10))\n\n# forecast using 3 and 6 month moving average\nforecast_3 = data['MA_3'].dropna().iloc[-1]\nforecast_6 = data['MA_6'].dropna().iloc[-1]\n\n# Print the 3 and 6 month moving averages for January 2025\nprint(forecast_3)\nprint(forecast_6)",
      "metadata": {
        "trusted": true
      },
      "outputs": [
        {
          "name": "stdout",
          "output_type": "stream",
          "text": "       Month  Sales        MA_3        MA_6\n0 2023-01-31  492.0         NaN         NaN\n1 2023-02-28  516.0         NaN         NaN\n2 2023-03-31  474.0  494.000000         NaN\n3 2023-04-30  506.0  498.666667         NaN\n4 2023-05-31  524.0  501.333333         NaN\n5 2023-06-30  477.0  502.333333  498.166667\n6 2023-07-31  487.0  496.000000  497.333333\n7 2023-08-31  496.0  486.666667  494.000000\n8 2023-09-30  507.0  496.666667  499.500000\n9 2023-10-31  486.0  496.333333  496.166667\n472.0\n491.8333333333333\n"
        }
      ],
      "execution_count": 26
    },
    {
      "id": "0dca8c99-fe20-4705-901f-73b40105c56c",
      "cell_type": "code",
      "source": "# Remove any missing values from the data frame.\n# prepare the data for the forecast accuracy measures calculations\n# remove the missing values from the data frame so that MSE, MAE, and MAPE\n# can be calculated.\ndata.dropna (inplace=True)\n# Calculate and print the MSE for 3-month MA\nmse_3 = ((data['Sales'] - data['MA_3'])** 2).mean()\nprint(f\"The Mean Square Error (MSE) for 3-month MA is: {mse_3: .1f}\")\n# Calculate and print the MSE for 6-month MA\nmse_6 = ((data['Sales'] - data['MA_6'])** 2).mean()\nprint(f\"The Mean Square Error (MSE) for 6-month MA is: {mse_6: .1f}\")\n\n# Calculate and print the MAE for 3-month MA\nmae_3 = (data['Sales'] - data['MA_3']).abs().mean()\nprint(f\"The Mean Absolute Error (MAE) for 3-month MA is: {mae_3: .1f}\")\n# Calculate and print the MAE for 6-month MA\nmae_6 = (data['Sales'] - data['MA_6']).abs().mean()\nprint(f\"The Mean Absolute Error (MAE) for 6-month MA is: {mae_6: .1f}\")\n\n# Calculate and print the MAPE for 3-month MA\nmape_3 = (abs(data['Sales'] - data['MA_3']) / data['Sales']).mean() * 100\nprint(f\"The Mean Absolute Percentage Error (MAPE) for 3-month MA is: {mape_3: .1f}%\")\n# Calculate and print the MAPE for 6-month MA\nmape_6 = (abs(data['Sales'] - data['MA_6']) / data['Sales']).mean() * 100\nprint(f\"The Mean Absolute Percentage Error (MAPE) for 6-month MA is: {mape_6: .1f}%\")",
      "metadata": {
        "trusted": true
      },
      "outputs": [
        {
          "name": "stdout",
          "output_type": "stream",
          "text": "The Mean Square Error (MSE) for 3-month MA is:  305.3\nThe Mean Square Error (MSE) for 6-month MA is:  396.4\nThe Mean Absolute Error (MAE) for 3-month MA is:  14.4\nThe Mean Absolute Error (MAE) for 6-month MA is:  15.4\nThe Mean Absolute Percentage Error (MAPE) for 3-month MA is:  2.9%\nThe Mean Absolute Percentage Error (MAPE) for 6-month MA is:  3.2%\n"
        }
      ],
      "execution_count": 27
    },
    {
      "id": "33b31dbd-db50-48c1-8f25-2acf1bdc7a8e",
      "cell_type": "markdown",
      "source": "This indicates that the 3-month moving average is more responsive to recent changes in the sales data and provides more accurate forecasts for TrendyBox. Therefore, using the 3-month moving average for forecasting would likely result in better inventory management, financial planning, and overall decision-making for the company.",
      "metadata": {}
    },
    {
      "id": "7aa9acc6-efad-4f3c-8646-9ec12f5759f8",
      "cell_type": "code",
      "source": "# Exponential Smoothing\n\n# View the last observations in the data frame\ndata.tail()\n\n# Importlibraries and modules\nfrom statsmodels.tsa.holtwinters import SimpleExpSmoothing\n# Extract the Sales column\nsales = data['Sales']\n# Create and forecast values using the exponential smoothing model\n# with a specified smoothing parameters, alpha es_model\nes_model = SimpleExpSmoothing(sales).fit(smoothing_level=0.8)\n# Print the forecasted/fitted values\nprint(es_model.fittedvalues)",
      "metadata": {
        "trusted": true
      },
      "outputs": [
        {
          "name": "stderr",
          "output_type": "stream",
          "text": "/lib/python3.12/site-packages/statsmodels/tsa/base/tsa_model.py:473: ValueWarning: An unsupported index was provided. As a result, forecasts cannot be generated. To use the model for forecasting, use one of the supported classes of index.\n  self._init_dates(dates, freq)\n/lib/python3.12/site-packages/pandas/util/_decorators.py:213: EstimationWarning: Model has no free parameters to estimate. Set optimized=False to suppress this warning\n  return func(*args, **kwargs)\n"
        },
        {
          "name": "stdout",
          "output_type": "stream",
          "text": "5     477.000000\n6     477.000000\n7     485.000000\n8     493.800000\n9     504.360000\n10    489.672000\n11    495.534400\n12    482.306880\n13    501.261376\n14    505.852275\n15    490.770455\n16    507.754091\n17    477.550818\n18    482.710164\n19    486.142033\n20    499.628407\n21    535.925681\n22    511.985136\n23    473.597027\ndtype: float64\n"
        }
      ],
      "execution_count": 28
    }
  ]
}