{
  "metadata": {
    "kernelspec": {
      "name": "python",
      "display_name": "Python (Pyodide)",
      "language": "python"
    },
    "language_info": {
      "codemirror_mode": {
        "name": "python",
        "version": 3
      },
      "file_extension": ".py",
      "mimetype": "text/x-python",
      "name": "python",
      "nbconvert_exporter": "python",
      "pygments_lexer": "ipython3",
      "version": "3.8"
    }
  },
  "nbformat_minor": 5,
  "nbformat": 4,
  "cells": [
    {
      "id": "9524b608-744a-4985-8b42-d5d793698801",
      "cell_type": "markdown",
      "source": "###Forcasting Accuracy\nMeasures:<br/>\n+ Mean Squared Error (MSE): Measures the average of the squared differences between what you predicted and what actually happened.\n+ Mean Absolute Error (MAE): Measures the average of the absolute difference between your prediction and the actual values.\n+ Mean Absolute Percentage Error (MAPE): Measures the average of the absolute percantage differences between your predictions and the actual values.",
      "metadata": {}
    },
    {
      "id": "c1e7784d-c1b8-433e-a929-dc6f0a09d46a",
      "cell_type": "code",
      "source": "",
      "metadata": {
        "trusted": true
      },
      "outputs": [],
      "execution_count": null
    },
    {
      "id": "cca45e59-e460-4d55-b48d-8c0ed75668f6",
      "cell_type": "code",
      "source": "import pyodide_http\npyodide_http.patch_all()\nimport warnings\nwarnings.filterwarnings('ignore')\nimport micropip\nawait micropip.install('pandas')\nawait micropip.install('openpyxl')\nimport pandas as pd\n\n# file with data\nexcel_file = pd.ExcelFile(\"forecast_errors.xlsx\", engine='openpyxl')\n\ndata = pd.read_excel(excel_file)\ndata.head()\n\n# Calculate MSE\nmse = ((data['Actual_Price'] - data['Forecast_Price']) ** 2).mean()\n# Print MSE\nprint(f'The Mean Squared Error (MSE) is: {mse}')\n\n# Calculate MAE\nmae = (data['Actual_Price'] - data['Forecast_Price']).abs().mean()\n# Print MAE\nprint(f'The Mean Absolute Error (MAE) is: {mae}')\n\n# Calculate MAPE\nmape = (abs(data['Actual_Price'] - data['Forecast_Price'])/data['Actual_Price']).mean()*100\n# Print MAPE\nprint(f'Mean Absolute Percentage Error (MAPE) is: {mape}')",
      "metadata": {
        "trusted": true
      },
      "outputs": [
        {
          "name": "stdout",
          "output_type": "stream",
          "text": "The Mean Squared Error (MSE) is: 1.6\nThe Mean Absolute Error (MAE) is: 1.2\nMean Absolute Percentage Error (MAPE) is: 2.2805959938035407\n"
        }
      ],
      "execution_count": 1
    },
    {
      "id": "6b105ec7-03d0-4d51-ad58-491c3880c493",
      "cell_type": "markdown",
      "source": "**The Mean Squared Error (MSE) is: 1.6**<br/>\nIn summary, on average, the squared errors (different between actual and forecasted prices) are 1.6. Since the errors are squared, this value emphasizes larger errors more than smaller ones. A lower value indicates more accurate forecasts, as the difference between actual and forecasted values are smaller.<br/>\n**The Mean Absolute Error (MAE) is: 1.2**<br/>\nThe MAE value of 1.2 suggests that the forecasts are relatively close to the actual prices, with an average error of 1.2 dollars.<br/>\n**Mean Absolute Percentage Error (MAPE) is: 2.2805959938035407**\nOn average, the forecasted stock prices differ from the actual stock prices by 2.3%. This indicates that the predicted stock prices are very close to the actual prices, making the forecast reliable for decision-making.",
      "metadata": {}
    },
    {
      "id": "9e5d1ba8-dcb1-40ad-bf32-c46c5534bae5",
      "cell_type": "code",
      "source": "# file with data\nexcel_file = pd.ExcelFile(\"fans_data.xlsx\", engine='openpyxl')\n\ndata = pd.read_excel(excel_file)\ndata.head()\n\n# Calculate MSE\nmse = ((data['Actual Sales'] - data['Forecasted Sales']) ** 2).mean()\n# Print MSE\nprint(f'The Mean Squared Error (MSE) is: {mse}')\n\n# Calculate MAE\nmae = (data['Actual Sales'] - data['Forecasted Sales']).abs().mean()\n# Print MAE\nprint(f'The Mean Absolute Error (MAE) is: {mae}')\n\n# Calculate MAPE\nmape = (abs(data['Actual Sales'] - data['Forecasted Sales'])/data['Actual Sales']).mean()*100\n# Print MAPE\nprint(f'Mean Absolute Percentage Error (MAPE) is: {mape}')",
      "metadata": {
        "trusted": true
      },
      "outputs": [
        {
          "name": "stdout",
          "output_type": "stream",
          "text": "The Mean Squared Error (MSE) is: 1450.0\nThe Mean Absolute Error (MAE) is: 35.0\nMean Absolute Percentage Error (MAPE) is: 5.199862637362638\n"
        }
      ],
      "execution_count": 3
    },
    {
      "id": "15b15d85-765c-4a03-b735-172e457439a4",
      "cell_type": "code",
      "source": "",
      "metadata": {
        "trusted": true
      },
      "outputs": [],
      "execution_count": null
    }
  ]
}