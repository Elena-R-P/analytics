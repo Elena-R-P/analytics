{
  "metadata": {
    "kernelspec": {
      "name": "python",
      "display_name": "Python (Pyodide)",
      "language": "python"
    },
    "language_info": {
      "codemirror_mode": {
        "name": "python",
        "version": 3
      },
      "file_extension": ".py",
      "mimetype": "text/x-python",
      "name": "python",
      "nbconvert_exporter": "python",
      "pygments_lexer": "ipython3",
      "version": "3.8"
    }
  },
  "nbformat_minor": 5,
  "nbformat": 4,
  "cells": [
    {
      "id": "2b7ce131-eb94-42ac-963a-104c3a4af663",
      "cell_type": "code",
      "source": "# # Sunshine_high\n# import pyodide_http\n# pyodide_http.patch_all\n\n# # packages with micropip\n# import micropip\n# await micropip.install(\"openpyxl\")\n\n# #import pandas\n# import pandas as pd\n# #matplotlib library for plotting (I)\n# import matplotlib.pyplot as plt\n# #the statsmodels libraty for statistical modeling (II)\n# import statsmodels.api as sm\n\n# excel_file = pd.ExcelFile(\"sunshine_high.xlsx\", engine='openpyxl')\n# data = pd.read_excel(excel_file)\n\n# #print the DataFrame to display the data\n# print(data)\n\n# # (II) The Simple Linear Regression Model\n\n# #define the response (Y) and explanatory (X) variables\n# x = data['Weekly_Extracurricular']\n# y = data['Average_Score']\n# #add a constant to the explanatory variable\n# x = sm.add_constant(x)\n\n# #build the linear regression model using the Ordinary Least Squares (OLS) method.\n# model = sm.OLS(y, x).fit()\n# # obtain the residual from the model\n# # residual - difference between the observed value and the predicted value\n# residuals = model.resid\n\n# # Create a Q-Q plot of the residuals with a 45-degree reference line\n# sm.qqplot(residuals, line='45', fit=True)\n# # Add a title to the Q-Q plot\n# plt.title('Q-Q Plot of Residuals')\n# # Display the Q-Q plot\n# plt.show()",
      "metadata": {
        "trusted": true
      },
      "outputs": [],
      "execution_count": 1
    },
    {
      "id": "0fc5c7a2-edff-41b2-82fe-a3e69e2902d0",
      "cell_type": "markdown",
      "source": "The Plot shows minor deviation which is acceptable if the overall pattern follows the line.",
      "metadata": {}
    },
    {
      "id": "51fed948-045a-4721-b55a-2c2b887d5b57",
      "cell_type": "code",
      "source": "# talking_tacos\nimport pyodide_http\npyodide_http.patch_all\n\n# packages with micropip\nimport micropip\nawait micropip.install(\"openpyxl\")\n\n#import pandas\nimport pandas as pd\n#matplotlib library for plotting (I)\nimport matplotlib.pyplot as plt\n#the statsmodels libraty for statistical modeling (II)\nimport statsmodels.api as sm\n\nexcel_file = pd.ExcelFile(\"talking_tacos.xlsx\", engine='openpyxl')\ndata = pd.read_excel(excel_file)\n\n#print the DataFrame to display the data\n#print(data)\n\n# (II) The Simple Linear Regression Model\n#define the response (Y) and explanatory (X) variables\nx = data['SocialMedia_Shares']\ny = data['Donation_Amount']\n#add a constant to the explanatory variable\nx = sm.add_constant(x)\n\n#build the linear regression model using the Ordinary Least Squares (OLS) method.\nmodel = sm.OLS(y, x).fit()\n\n#print the coefficients of the model and R-squared output\nprint(model.summary())\n\n# obtain the residual from the model\n# residual - difference between the observed value and the predicted value\nresiduals = model.resid\n\n# print the residual\nprint(residuals)",
      "metadata": {
        "trusted": true
      },
      "outputs": [
        {
          "name": "stderr",
          "output_type": "stream",
          "text": "Matplotlib is building the font cache; this may take a moment.\n"
        },
        {
          "name": "stdout",
          "output_type": "stream",
          "text": "                            OLS Regression Results                            \n==============================================================================\nDep. Variable:        Donation_Amount   R-squared:                       0.997\nModel:                            OLS   Adj. R-squared:                  0.997\nMethod:                 Least Squares   F-statistic:                     6183.\nDate:                Fri, 24 Oct 2025   Prob (F-statistic):           2.72e-24\nTime:                        15:35:33   Log-Likelihood:                -93.282\nNo. Observations:                  20   AIC:                             190.6\nDf Residuals:                      18   BIC:                             192.6\nDf Model:                           1                                         \nCovariance Type:            nonrobust                                         \n======================================================================================\n                         coef    std err          t      P>|t|      [0.025      0.975]\n--------------------------------------------------------------------------------------\nconst               1011.6106     16.552     61.116      0.000     976.835    1046.386\nSocialMedia_Shares     7.9056      0.101     78.634      0.000       7.694       8.117\n==============================================================================\nOmnibus:                        1.066   Durbin-Watson:                   1.650\nProb(Omnibus):                  0.587   Jarque-Bera (JB):                0.795\nSkew:                          -0.105   Prob(JB):                        0.672\nKurtosis:                       2.046   Cond. No.                         450.\n==============================================================================\n\nNotes:\n[1] Standard Errors assume that the covariance matrix of the errors is correctly specified.\n0     22.330336\n1     24.354517\n2    -39.129212\n3    -43.557122\n4     48.731239\n5     18.775419\n6    -39.780400\n7    -28.736220\n8    -17.992039\n9     12.852141\n10    23.696322\n11    34.940502\n12    15.984683\n13   -12.971137\n14     8.073044\n15   -20.882776\n16    -0.738595\n17    -9.694415\n18    -8.650234\n19    12.393946\ndtype: float64\n"
        }
      ],
      "execution_count": 2
    },
    {
      "id": "c3b880a8-8e70-4225-bcf9-dc771b0b3928",
      "cell_type": "markdown",
      "source": "The residual for the 15th observation is positive, which means the actual revenue was higher than the predicted revenue. Therefore, the model underestimated the revenue.",
      "metadata": {}
    }
  ]
}