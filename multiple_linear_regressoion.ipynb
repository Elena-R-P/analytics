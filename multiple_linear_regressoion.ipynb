{
  "metadata": {
    "kernelspec": {
      "name": "python",
      "display_name": "Python (Pyodide)",
      "language": "python"
    },
    "language_info": {
      "codemirror_mode": {
        "name": "python",
        "version": 3
      },
      "file_extension": ".py",
      "mimetype": "text/x-python",
      "name": "python",
      "nbconvert_exporter": "python",
      "pygments_lexer": "ipython3",
      "version": "3.8"
    }
  },
  "nbformat_minor": 5,
  "nbformat": 4,
  "cells": [
    {
      "id": "07a39e7c-38b1-43b1-8b35-fd59ebb14d69",
      "cell_type": "code",
      "source": "#product_launch.xlsx\n# The goal is to create a multiple linear regression model\n# that reliably generates new data.\nimport pandas as pd\n\n# excel file containing the product launch data\nexcel_file = pd.ExcelFile(\"product_launch.xlsx\", engine='openpyxl')\n# read the file into a pandas data frame\ndata = pd.read_excel(excel_file)\n\n# Build a multiple linear regression model using k-fold cross-validation and \n# use RMSF as the assessment measure.\n# Import the cross_val_score function for performing cross validation\nfrom sklearn.model_selection import cross_val_score\nfrom sklearn.linear_model import LinearRegression\nimport numpy as np\n\n# select the features and target variable\nfeatures = ['Price', 'Marketing_Spend', 'Social_Media_Mentions', 'Pre_Orders',",
      "metadata": {
        "trusted": true
      },
      "outputs": [],
      "execution_count": null
    }
  ]
}