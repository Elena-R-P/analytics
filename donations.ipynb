{
  "metadata": {
    "kernelspec": {
      "name": "python",
      "display_name": "Python (Pyodide)",
      "language": "python"
    },
    "language_info": {
      "codemirror_mode": {
        "name": "python",
        "version": 3
      },
      "file_extension": ".py",
      "mimetype": "text/x-python",
      "name": "python",
      "nbconvert_exporter": "python",
      "pygments_lexer": "ipython3",
      "version": "3.8"
    }
  },
  "nbformat_minor": 5,
  "nbformat": 4,
  "cells": [
    {
      "id": "b9511068-45e3-494e-a927-269fa6708736",
      "cell_type": "code",
      "source": "# Kernel Python (Pyodide)\n#import and patch libraries for web use\nimport pyodide_http\npyodide_http.patch_all\n\n# packages with micropip\nimport micropip\nawait micropip.install(\"openpyxl\")\n\n#import pandas\nimport pandas as pd\n\n# file with data\nexcel_file = pd.ExcelFile(\"donations.xlsx\", engine='openpyxl')\ndata = pd.read_excel(excel_file)\n",
      "metadata": {
        "trusted": true
      },
      "outputs": [],
      "execution_count": null
    },
    {
      "id": "7977d96c-ca20-4f7e-b96d-86173b197186",
      "cell_type": "code",
      "source": "",
      "metadata": {
        "trusted": true
      },
      "outputs": [],
      "execution_count": null
    }
  ]
}